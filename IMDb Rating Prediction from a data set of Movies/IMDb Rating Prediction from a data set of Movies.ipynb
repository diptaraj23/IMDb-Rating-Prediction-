{
 "cells": [
  {
   "cell_type": "markdown",
   "metadata": {},
   "source": [
    "# IMDb Rating Prediction from a data set of Movies"
   ]
  },
  {
   "cell_type": "code",
   "execution_count": 125,
   "metadata": {},
   "outputs": [],
   "source": [
    "#Import the Libraries\n",
    "import numpy as np \n",
    "import pandas as pd \n",
    "\n",
    "import matplotlib.pyplot as plt\n",
    "import missingno as msno \n",
    "import seaborn as sns\n",
    "plt.style.use('seaborn-whitegrid')\n",
    "\n",
    "from sklearn.impute import SimpleImputer\n",
    "\n",
    "from sklearn.model_selection import train_test_split\n",
    "from sklearn.ensemble import RandomForestRegressor\n",
    "from sklearn.metrics import mean_absolute_error\n",
    "from sklearn.preprocessing import LabelEncoder"
   ]
  },
  {
   "cell_type": "code",
   "execution_count": 126,
   "metadata": {},
   "outputs": [
    {
     "data": {
      "text/html": [
       "<div>\n",
       "<style scoped>\n",
       "    .dataframe tbody tr th:only-of-type {\n",
       "        vertical-align: middle;\n",
       "    }\n",
       "\n",
       "    .dataframe tbody tr th {\n",
       "        vertical-align: top;\n",
       "    }\n",
       "\n",
       "    .dataframe thead th {\n",
       "        text-align: right;\n",
       "    }\n",
       "</style>\n",
       "<table border=\"1\" class=\"dataframe\">\n",
       "  <thead>\n",
       "    <tr style=\"text-align: right;\">\n",
       "      <th></th>\n",
       "      <th>Unnamed: 0</th>\n",
       "      <th>Title</th>\n",
       "      <th>Year</th>\n",
       "      <th>Age</th>\n",
       "      <th>IMDb</th>\n",
       "      <th>Rotten Tomatoes</th>\n",
       "      <th>Netflix</th>\n",
       "      <th>Hulu</th>\n",
       "      <th>Prime Video</th>\n",
       "      <th>Disney+</th>\n",
       "      <th>Type</th>\n",
       "      <th>Directors</th>\n",
       "      <th>Genres</th>\n",
       "      <th>Country</th>\n",
       "      <th>Language</th>\n",
       "      <th>Runtime</th>\n",
       "    </tr>\n",
       "    <tr>\n",
       "      <th>ID</th>\n",
       "      <th></th>\n",
       "      <th></th>\n",
       "      <th></th>\n",
       "      <th></th>\n",
       "      <th></th>\n",
       "      <th></th>\n",
       "      <th></th>\n",
       "      <th></th>\n",
       "      <th></th>\n",
       "      <th></th>\n",
       "      <th></th>\n",
       "      <th></th>\n",
       "      <th></th>\n",
       "      <th></th>\n",
       "      <th></th>\n",
       "      <th></th>\n",
       "    </tr>\n",
       "  </thead>\n",
       "  <tbody>\n",
       "    <tr>\n",
       "      <th>1</th>\n",
       "      <td>0</td>\n",
       "      <td>Inception</td>\n",
       "      <td>2010</td>\n",
       "      <td>13+</td>\n",
       "      <td>8.8</td>\n",
       "      <td>87%</td>\n",
       "      <td>1</td>\n",
       "      <td>0</td>\n",
       "      <td>0</td>\n",
       "      <td>0</td>\n",
       "      <td>0</td>\n",
       "      <td>Christopher Nolan</td>\n",
       "      <td>Action,Adventure,Sci-Fi,Thriller</td>\n",
       "      <td>United States,United Kingdom</td>\n",
       "      <td>English,Japanese,French</td>\n",
       "      <td>148.0</td>\n",
       "    </tr>\n",
       "    <tr>\n",
       "      <th>2</th>\n",
       "      <td>1</td>\n",
       "      <td>The Matrix</td>\n",
       "      <td>1999</td>\n",
       "      <td>18+</td>\n",
       "      <td>8.7</td>\n",
       "      <td>87%</td>\n",
       "      <td>1</td>\n",
       "      <td>0</td>\n",
       "      <td>0</td>\n",
       "      <td>0</td>\n",
       "      <td>0</td>\n",
       "      <td>Lana Wachowski,Lilly Wachowski</td>\n",
       "      <td>Action,Sci-Fi</td>\n",
       "      <td>United States</td>\n",
       "      <td>English</td>\n",
       "      <td>136.0</td>\n",
       "    </tr>\n",
       "    <tr>\n",
       "      <th>3</th>\n",
       "      <td>2</td>\n",
       "      <td>Avengers: Infinity War</td>\n",
       "      <td>2018</td>\n",
       "      <td>13+</td>\n",
       "      <td>8.5</td>\n",
       "      <td>84%</td>\n",
       "      <td>1</td>\n",
       "      <td>0</td>\n",
       "      <td>0</td>\n",
       "      <td>0</td>\n",
       "      <td>0</td>\n",
       "      <td>Anthony Russo,Joe Russo</td>\n",
       "      <td>Action,Adventure,Sci-Fi</td>\n",
       "      <td>United States</td>\n",
       "      <td>English</td>\n",
       "      <td>149.0</td>\n",
       "    </tr>\n",
       "    <tr>\n",
       "      <th>4</th>\n",
       "      <td>3</td>\n",
       "      <td>Back to the Future</td>\n",
       "      <td>1985</td>\n",
       "      <td>7+</td>\n",
       "      <td>8.5</td>\n",
       "      <td>96%</td>\n",
       "      <td>1</td>\n",
       "      <td>0</td>\n",
       "      <td>0</td>\n",
       "      <td>0</td>\n",
       "      <td>0</td>\n",
       "      <td>Robert Zemeckis</td>\n",
       "      <td>Adventure,Comedy,Sci-Fi</td>\n",
       "      <td>United States</td>\n",
       "      <td>English</td>\n",
       "      <td>116.0</td>\n",
       "    </tr>\n",
       "    <tr>\n",
       "      <th>5</th>\n",
       "      <td>4</td>\n",
       "      <td>The Good, the Bad and the Ugly</td>\n",
       "      <td>1966</td>\n",
       "      <td>18+</td>\n",
       "      <td>8.8</td>\n",
       "      <td>97%</td>\n",
       "      <td>1</td>\n",
       "      <td>0</td>\n",
       "      <td>1</td>\n",
       "      <td>0</td>\n",
       "      <td>0</td>\n",
       "      <td>Sergio Leone</td>\n",
       "      <td>Western</td>\n",
       "      <td>Italy,Spain,West Germany</td>\n",
       "      <td>Italian</td>\n",
       "      <td>161.0</td>\n",
       "    </tr>\n",
       "  </tbody>\n",
       "</table>\n",
       "</div>"
      ],
      "text/plain": [
       "    Unnamed: 0                           Title  Year  Age  IMDb  \\\n",
       "ID                                                                \n",
       "1            0                       Inception  2010  13+   8.8   \n",
       "2            1                      The Matrix  1999  18+   8.7   \n",
       "3            2          Avengers: Infinity War  2018  13+   8.5   \n",
       "4            3              Back to the Future  1985   7+   8.5   \n",
       "5            4  The Good, the Bad and the Ugly  1966  18+   8.8   \n",
       "\n",
       "   Rotten Tomatoes  Netflix  Hulu  Prime Video  Disney+  Type  \\\n",
       "ID                                                              \n",
       "1              87%        1     0            0        0     0   \n",
       "2              87%        1     0            0        0     0   \n",
       "3              84%        1     0            0        0     0   \n",
       "4              96%        1     0            0        0     0   \n",
       "5              97%        1     0            1        0     0   \n",
       "\n",
       "                         Directors                            Genres  \\\n",
       "ID                                                                     \n",
       "1                Christopher Nolan  Action,Adventure,Sci-Fi,Thriller   \n",
       "2   Lana Wachowski,Lilly Wachowski                     Action,Sci-Fi   \n",
       "3          Anthony Russo,Joe Russo           Action,Adventure,Sci-Fi   \n",
       "4                  Robert Zemeckis           Adventure,Comedy,Sci-Fi   \n",
       "5                     Sergio Leone                           Western   \n",
       "\n",
       "                         Country                 Language  Runtime  \n",
       "ID                                                                  \n",
       "1   United States,United Kingdom  English,Japanese,French    148.0  \n",
       "2                  United States                  English    136.0  \n",
       "3                  United States                  English    149.0  \n",
       "4                  United States                  English    116.0  \n",
       "5       Italy,Spain,West Germany                  Italian    161.0  "
      ]
     },
     "execution_count": 126,
     "metadata": {},
     "output_type": "execute_result"
    }
   ],
   "source": [
    "#Load the Dataset\n",
    "df_movies = pd.read_csv(\"MoviesOnStreamingPlatforms_updated.csv\", index_col=\"ID\")\n",
    "df_movies.head()"
   ]
  },
  {
   "cell_type": "code",
   "execution_count": 127,
   "metadata": {
    "scrolled": true
   },
   "outputs": [
    {
     "data": {
      "text/html": [
       "<div>\n",
       "<style scoped>\n",
       "    .dataframe tbody tr th:only-of-type {\n",
       "        vertical-align: middle;\n",
       "    }\n",
       "\n",
       "    .dataframe tbody tr th {\n",
       "        vertical-align: top;\n",
       "    }\n",
       "\n",
       "    .dataframe thead th {\n",
       "        text-align: right;\n",
       "    }\n",
       "</style>\n",
       "<table border=\"1\" class=\"dataframe\">\n",
       "  <thead>\n",
       "    <tr style=\"text-align: right;\">\n",
       "      <th></th>\n",
       "      <th>Title</th>\n",
       "      <th>Year</th>\n",
       "      <th>Age</th>\n",
       "      <th>IMDb</th>\n",
       "      <th>Rotten Tomatoes</th>\n",
       "      <th>Netflix</th>\n",
       "      <th>Hulu</th>\n",
       "      <th>Prime Video</th>\n",
       "      <th>Disney+</th>\n",
       "      <th>Type</th>\n",
       "      <th>Directors</th>\n",
       "      <th>Genres</th>\n",
       "      <th>Country</th>\n",
       "      <th>Language</th>\n",
       "      <th>Runtime</th>\n",
       "    </tr>\n",
       "    <tr>\n",
       "      <th>ID</th>\n",
       "      <th></th>\n",
       "      <th></th>\n",
       "      <th></th>\n",
       "      <th></th>\n",
       "      <th></th>\n",
       "      <th></th>\n",
       "      <th></th>\n",
       "      <th></th>\n",
       "      <th></th>\n",
       "      <th></th>\n",
       "      <th></th>\n",
       "      <th></th>\n",
       "      <th></th>\n",
       "      <th></th>\n",
       "      <th></th>\n",
       "    </tr>\n",
       "  </thead>\n",
       "  <tbody>\n",
       "    <tr>\n",
       "      <th>1</th>\n",
       "      <td>Inception</td>\n",
       "      <td>2010</td>\n",
       "      <td>13+</td>\n",
       "      <td>8.8</td>\n",
       "      <td>87%</td>\n",
       "      <td>1</td>\n",
       "      <td>0</td>\n",
       "      <td>0</td>\n",
       "      <td>0</td>\n",
       "      <td>0</td>\n",
       "      <td>Christopher Nolan</td>\n",
       "      <td>Action,Adventure,Sci-Fi,Thriller</td>\n",
       "      <td>United States,United Kingdom</td>\n",
       "      <td>English,Japanese,French</td>\n",
       "      <td>148.0</td>\n",
       "    </tr>\n",
       "    <tr>\n",
       "      <th>2</th>\n",
       "      <td>The Matrix</td>\n",
       "      <td>1999</td>\n",
       "      <td>18+</td>\n",
       "      <td>8.7</td>\n",
       "      <td>87%</td>\n",
       "      <td>1</td>\n",
       "      <td>0</td>\n",
       "      <td>0</td>\n",
       "      <td>0</td>\n",
       "      <td>0</td>\n",
       "      <td>Lana Wachowski,Lilly Wachowski</td>\n",
       "      <td>Action,Sci-Fi</td>\n",
       "      <td>United States</td>\n",
       "      <td>English</td>\n",
       "      <td>136.0</td>\n",
       "    </tr>\n",
       "    <tr>\n",
       "      <th>3</th>\n",
       "      <td>Avengers: Infinity War</td>\n",
       "      <td>2018</td>\n",
       "      <td>13+</td>\n",
       "      <td>8.5</td>\n",
       "      <td>84%</td>\n",
       "      <td>1</td>\n",
       "      <td>0</td>\n",
       "      <td>0</td>\n",
       "      <td>0</td>\n",
       "      <td>0</td>\n",
       "      <td>Anthony Russo,Joe Russo</td>\n",
       "      <td>Action,Adventure,Sci-Fi</td>\n",
       "      <td>United States</td>\n",
       "      <td>English</td>\n",
       "      <td>149.0</td>\n",
       "    </tr>\n",
       "    <tr>\n",
       "      <th>4</th>\n",
       "      <td>Back to the Future</td>\n",
       "      <td>1985</td>\n",
       "      <td>7+</td>\n",
       "      <td>8.5</td>\n",
       "      <td>96%</td>\n",
       "      <td>1</td>\n",
       "      <td>0</td>\n",
       "      <td>0</td>\n",
       "      <td>0</td>\n",
       "      <td>0</td>\n",
       "      <td>Robert Zemeckis</td>\n",
       "      <td>Adventure,Comedy,Sci-Fi</td>\n",
       "      <td>United States</td>\n",
       "      <td>English</td>\n",
       "      <td>116.0</td>\n",
       "    </tr>\n",
       "    <tr>\n",
       "      <th>5</th>\n",
       "      <td>The Good, the Bad and the Ugly</td>\n",
       "      <td>1966</td>\n",
       "      <td>18+</td>\n",
       "      <td>8.8</td>\n",
       "      <td>97%</td>\n",
       "      <td>1</td>\n",
       "      <td>0</td>\n",
       "      <td>1</td>\n",
       "      <td>0</td>\n",
       "      <td>0</td>\n",
       "      <td>Sergio Leone</td>\n",
       "      <td>Western</td>\n",
       "      <td>Italy,Spain,West Germany</td>\n",
       "      <td>Italian</td>\n",
       "      <td>161.0</td>\n",
       "    </tr>\n",
       "  </tbody>\n",
       "</table>\n",
       "</div>"
      ],
      "text/plain": [
       "                             Title  Year  Age  IMDb Rotten Tomatoes  Netflix  \\\n",
       "ID                                                                             \n",
       "1                        Inception  2010  13+   8.8             87%        1   \n",
       "2                       The Matrix  1999  18+   8.7             87%        1   \n",
       "3           Avengers: Infinity War  2018  13+   8.5             84%        1   \n",
       "4               Back to the Future  1985   7+   8.5             96%        1   \n",
       "5   The Good, the Bad and the Ugly  1966  18+   8.8             97%        1   \n",
       "\n",
       "    Hulu  Prime Video  Disney+  Type                       Directors  \\\n",
       "ID                                                                     \n",
       "1      0            0        0     0               Christopher Nolan   \n",
       "2      0            0        0     0  Lana Wachowski,Lilly Wachowski   \n",
       "3      0            0        0     0         Anthony Russo,Joe Russo   \n",
       "4      0            0        0     0                 Robert Zemeckis   \n",
       "5      0            1        0     0                    Sergio Leone   \n",
       "\n",
       "                              Genres                       Country  \\\n",
       "ID                                                                   \n",
       "1   Action,Adventure,Sci-Fi,Thriller  United States,United Kingdom   \n",
       "2                      Action,Sci-Fi                 United States   \n",
       "3            Action,Adventure,Sci-Fi                 United States   \n",
       "4            Adventure,Comedy,Sci-Fi                 United States   \n",
       "5                            Western      Italy,Spain,West Germany   \n",
       "\n",
       "                   Language  Runtime  \n",
       "ID                                    \n",
       "1   English,Japanese,French    148.0  \n",
       "2                   English    136.0  \n",
       "3                   English    149.0  \n",
       "4                   English    116.0  \n",
       "5                   Italian    161.0  "
      ]
     },
     "execution_count": 127,
     "metadata": {},
     "output_type": "execute_result"
    }
   ],
   "source": [
    "#Remove \"Unnamed\" \n",
    "df_movies=df_movies.drop(\"Unnamed: 0\",axis=1)\n",
    "df_movies.head()"
   ]
  },
  {
   "cell_type": "code",
   "execution_count": 128,
   "metadata": {},
   "outputs": [
    {
     "name": "stdout",
     "output_type": "stream",
     "text": [
      "<class 'pandas.core.frame.DataFrame'>\n",
      "Int64Index: 16744 entries, 1 to 16744\n",
      "Data columns (total 15 columns):\n",
      " #   Column           Non-Null Count  Dtype  \n",
      "---  ------           --------------  -----  \n",
      " 0   Title            16744 non-null  object \n",
      " 1   Year             16744 non-null  int64  \n",
      " 2   Age              7354 non-null   object \n",
      " 3   IMDb             16173 non-null  float64\n",
      " 4   Rotten Tomatoes  5158 non-null   object \n",
      " 5   Netflix          16744 non-null  int64  \n",
      " 6   Hulu             16744 non-null  int64  \n",
      " 7   Prime Video      16744 non-null  int64  \n",
      " 8   Disney+          16744 non-null  int64  \n",
      " 9   Type             16744 non-null  int64  \n",
      " 10  Directors        16018 non-null  object \n",
      " 11  Genres           16469 non-null  object \n",
      " 12  Country          16309 non-null  object \n",
      " 13  Language         16145 non-null  object \n",
      " 14  Runtime          16152 non-null  float64\n",
      "dtypes: float64(2), int64(6), object(7)\n",
      "memory usage: 2.0+ MB\n"
     ]
    }
   ],
   "source": [
    "#Description overview of the data\n",
    "df_movies.info()"
   ]
  },
  {
   "cell_type": "code",
   "execution_count": 129,
   "metadata": {},
   "outputs": [
    {
     "data": {
      "text/plain": [
       "Title                  0\n",
       "Year                   0\n",
       "Age                 9390\n",
       "IMDb                 571\n",
       "Rotten Tomatoes    11586\n",
       "Netflix                0\n",
       "Hulu                   0\n",
       "Prime Video            0\n",
       "Disney+                0\n",
       "Type                   0\n",
       "Directors            726\n",
       "Genres               275\n",
       "Country              435\n",
       "Language             599\n",
       "Runtime              592\n",
       "dtype: int64"
      ]
     },
     "execution_count": 129,
     "metadata": {},
     "output_type": "execute_result"
    }
   ],
   "source": [
    "#Check for total no.of null values in each column \n",
    "df_movies.isna().sum()"
   ]
  },
  {
   "cell_type": "code",
   "execution_count": 130,
   "metadata": {},
   "outputs": [],
   "source": [
    "#Removing the Target value\n",
    "df_movies = df_movies[df_movies['IMDb'].notna()]"
   ]
  },
  {
   "cell_type": "code",
   "execution_count": 131,
   "metadata": {},
   "outputs": [
    {
     "data": {
      "text/plain": [
       "<matplotlib.axes._subplots.AxesSubplot at 0x246fbbd0a08>"
      ]
     },
     "execution_count": 131,
     "metadata": {},
     "output_type": "execute_result"
    },
    {
     "data": {
      "image/png": "[encoded data removed]",
      "text/plain": [
       "<Figure size 720x288 with 3 Axes>"
      ]
     },
     "metadata": {},
     "output_type": "display_data"
    }
   ],
   "source": [
    "#Visualizing the amount of missing data\n",
    "msno.bar(df_movies ,color='red', figsize=(10, 4))"
   ]
  },
  {
   "cell_type": "code",
   "execution_count": 132,
   "metadata": {},
   "outputs": [
    {
     "data": {
      "text/plain": [
       "Year              0\n",
       "Age            8857\n",
       "IMDb              0\n",
       "Netflix           0\n",
       "Hulu              0\n",
       "Prime Video       0\n",
       "Disney+           0\n",
       "Directors       483\n",
       "Genres          101\n",
       "Country         218\n",
       "Language        372\n",
       "Runtime         354\n",
       "dtype: int64"
      ]
     },
     "execution_count": 132,
     "metadata": {},
     "output_type": "execute_result"
    }
   ],
   "source": [
    "#Dropping \"Rotten Tomatoes\" for its excessively low data \n",
    "df_movies = df_movies.drop(['Rotten Tomatoes'], axis=1)\n",
    "\n",
    "#\"Title\" and \"Type\" are dropped as it is irrelevant for our prediction.\n",
    "df_movies = df_movies.drop(['Title','Type'], axis=1)\n",
    "df_movies.isna().sum()"
   ]
  },
  {
   "cell_type": "code",
   "execution_count": 133,
   "metadata": {},
   "outputs": [
    {
     "data": {
      "text/plain": [
       "array(['13+', '18+', '7+', nan, 'all', '16+'], dtype=object)"
      ]
     },
     "execution_count": 133,
     "metadata": {},
     "output_type": "execute_result"
    }
   ],
   "source": [
    "#Checking unique values in \"Age\" \n",
    "df_movies['Age'].unique()"
   ]
  },
  {
   "cell_type": "code",
   "execution_count": 134,
   "metadata": {},
   "outputs": [
    {
     "data": {
      "text/plain": [
       "Year             0\n",
       "Age              0\n",
       "IMDb             0\n",
       "Netflix          0\n",
       "Hulu             0\n",
       "Prime Video      0\n",
       "Disney+          0\n",
       "Directors      483\n",
       "Genres         101\n",
       "Country        218\n",
       "Language       372\n",
       "Runtime        354\n",
       "dtype: int64"
      ]
     },
     "execution_count": 134,
     "metadata": {},
     "output_type": "execute_result"
    }
   ],
   "source": [
    "#Imputing null values in \"Age\" with \"all\"\n",
    "imputer = SimpleImputer(missing_values=np.nan, strategy='constant', fill_value=\"all\")\n",
    "df_movies[\"Age\"] = imputer.fit_transform(df_movies[[\"Age\"]]).ravel()\n",
    "\n",
    "df_movies.isna().sum()"
   ]
  },
  {
   "cell_type": "code",
   "execution_count": 135,
   "metadata": {},
   "outputs": [
    {
     "data": {
      "text/plain": [
       "Year           0\n",
       "Age            0\n",
       "IMDb           0\n",
       "Netflix        0\n",
       "Hulu           0\n",
       "Prime Video    0\n",
       "Disney+        0\n",
       "Directors      0\n",
       "Genres         0\n",
       "Country        0\n",
       "Language       0\n",
       "Runtime        0\n",
       "dtype: int64"
      ]
     },
     "execution_count": 135,
     "metadata": {},
     "output_type": "execute_result"
    }
   ],
   "source": [
    "#Dropping all the rows(entries) where there are celss with no data \n",
    "df_movies.dropna(axis=0, how='any',inplace=True)\n",
    "\n",
    "df_movies.isna().sum()"
   ]
  },
  {
   "cell_type": "code",
   "execution_count": 136,
   "metadata": {},
   "outputs": [
    {
     "data": {
      "text/plain": [
       "<matplotlib.axes._subplots.AxesSubplot at 0x246fbf4e448>"
      ]
     },
     "execution_count": 136,
     "metadata": {},
     "output_type": "execute_result"
    },
    {
     "data": {
      "image/png": "[encoded data removed]",
      "text/plain": [
       "<Figure size 720x288 with 3 Axes>"
      ]
     },
     "metadata": {},
     "output_type": "display_data"
    }
   ],
   "source": [
    "#Visualizing if there is anymore missing data or not\n",
    "msno.bar(df_movies ,color='red', figsize=(10, 4))"
   ]
  },
  {
   "cell_type": "code",
   "execution_count": 137,
   "metadata": {
    "scrolled": true
   },
   "outputs": [
    {
     "name": "stdout",
     "output_type": "stream",
     "text": [
      "<class 'pandas.core.frame.DataFrame'>\n",
      "Int64Index: 15233 entries, 1 to 16741\n",
      "Data columns (total 12 columns):\n",
      " #   Column       Non-Null Count  Dtype  \n",
      "---  ------       --------------  -----  \n",
      " 0   Year         15233 non-null  int64  \n",
      " 1   Age          15233 non-null  object \n",
      " 2   IMDb         15233 non-null  float64\n",
      " 3   Netflix      15233 non-null  int64  \n",
      " 4   Hulu         15233 non-null  int64  \n",
      " 5   Prime Video  15233 non-null  int64  \n",
      " 6   Disney+      15233 non-null  int64  \n",
      " 7   Directors    15233 non-null  object \n",
      " 8   Genres       15233 non-null  object \n",
      " 9   Country      15233 non-null  object \n",
      " 10  Language     15233 non-null  object \n",
      " 11  Runtime      15233 non-null  float64\n",
      "dtypes: float64(2), int64(5), object(5)\n",
      "memory usage: 1.5+ MB\n"
     ]
    }
   ],
   "source": [
    "df_movies.info()"
   ]
  },
  {
   "cell_type": "code",
   "execution_count": 138,
   "metadata": {},
   "outputs": [],
   "source": [
    "# Choose target and features\n",
    "y = df_movies.IMDb\n",
    "\n",
    "X = df_movies.drop(['IMDb'], axis=1)\n",
    "\n",
    "#Split the data for train and test\n",
    "X_train_full, X_test_full, y_train, y_test  = train_test_split(X, y,random_state = 0)\n",
    "\n",
    "#List of Categorical colunmns to be used as features\n",
    "cat_cols=[\"Age\",\"Directors\",\"Genres\",\"Country\",\"Language\"]\n",
    "\n",
    "#List of Numerical colunmns to be used as features\n",
    "numerical_cols = ['Year','Runtime']\n",
    "\n",
    "#Keep selected columns only\n",
    "my_cols = numerical_cols + cat_cols \n",
    "X_train = X_train_full[my_cols].copy()\n",
    "X_test = X_test_full[my_cols].copy()"
   ]
  },
  {
   "cell_type": "code",
   "execution_count": 139,
   "metadata": {},
   "outputs": [
    {
     "data": {
      "text/html": [
       "<div>\n",
       "<style scoped>\n",
       "    .dataframe tbody tr th:only-of-type {\n",
       "        vertical-align: middle;\n",
       "    }\n",
       "\n",
       "    .dataframe tbody tr th {\n",
       "        vertical-align: top;\n",
       "    }\n",
       "\n",
       "    .dataframe thead th {\n",
       "        text-align: right;\n",
       "    }\n",
       "</style>\n",
       "<table border=\"1\" class=\"dataframe\">\n",
       "  <thead>\n",
       "    <tr style=\"text-align: right;\">\n",
       "      <th></th>\n",
       "      <th>Year</th>\n",
       "      <th>Runtime</th>\n",
       "      <th>Age</th>\n",
       "      <th>Directors</th>\n",
       "      <th>Genres</th>\n",
       "      <th>Country</th>\n",
       "      <th>Language</th>\n",
       "    </tr>\n",
       "    <tr>\n",
       "      <th>ID</th>\n",
       "      <th></th>\n",
       "      <th></th>\n",
       "      <th></th>\n",
       "      <th></th>\n",
       "      <th></th>\n",
       "      <th></th>\n",
       "      <th></th>\n",
       "    </tr>\n",
       "  </thead>\n",
       "  <tbody>\n",
       "    <tr>\n",
       "      <th>13576</th>\n",
       "      <td>1972</td>\n",
       "      <td>88.0</td>\n",
       "      <td>18+</td>\n",
       "      <td>Vernon Zimmerman</td>\n",
       "      <td>Action,Comedy,Drama,Sport</td>\n",
       "      <td>United States</td>\n",
       "      <td>English</td>\n",
       "    </tr>\n",
       "    <tr>\n",
       "      <th>9829</th>\n",
       "      <td>2011</td>\n",
       "      <td>93.0</td>\n",
       "      <td>13+</td>\n",
       "      <td>Nayan Padrai</td>\n",
       "      <td>Comedy,Romance</td>\n",
       "      <td>United States</td>\n",
       "      <td>English</td>\n",
       "    </tr>\n",
       "    <tr>\n",
       "      <th>1256</th>\n",
       "      <td>2020</td>\n",
       "      <td>104.0</td>\n",
       "      <td>all</td>\n",
       "      <td>William Wyler</td>\n",
       "      <td>Drama,Romance</td>\n",
       "      <td>United States</td>\n",
       "      <td>English,French</td>\n",
       "    </tr>\n",
       "    <tr>\n",
       "      <th>9800</th>\n",
       "      <td>2017</td>\n",
       "      <td>149.0</td>\n",
       "      <td>all</td>\n",
       "      <td>Boyapati Srinu</td>\n",
       "      <td>Action,Romance</td>\n",
       "      <td>India</td>\n",
       "      <td>Telugu</td>\n",
       "    </tr>\n",
       "    <tr>\n",
       "      <th>11212</th>\n",
       "      <td>1941</td>\n",
       "      <td>66.0</td>\n",
       "      <td>all</td>\n",
       "      <td>Howard Bretherton</td>\n",
       "      <td>Action,Adventure,Western</td>\n",
       "      <td>United States</td>\n",
       "      <td>English</td>\n",
       "    </tr>\n",
       "  </tbody>\n",
       "</table>\n",
       "</div>"
      ],
      "text/plain": [
       "       Year  Runtime  Age          Directors                     Genres  \\\n",
       "ID                                                                        \n",
       "13576  1972     88.0  18+   Vernon Zimmerman  Action,Comedy,Drama,Sport   \n",
       "9829   2011     93.0  13+       Nayan Padrai             Comedy,Romance   \n",
       "1256   2020    104.0  all      William Wyler              Drama,Romance   \n",
       "9800   2017    149.0  all     Boyapati Srinu             Action,Romance   \n",
       "11212  1941     66.0  all  Howard Bretherton   Action,Adventure,Western   \n",
       "\n",
       "             Country        Language  \n",
       "ID                                    \n",
       "13576  United States         English  \n",
       "9829   United States         English  \n",
       "1256   United States  English,French  \n",
       "9800           India          Telugu  \n",
       "11212  United States         English  "
      ]
     },
     "execution_count": 139,
     "metadata": {},
     "output_type": "execute_result"
    }
   ],
   "source": [
    "#Viewing Test data\n",
    "X_train.head()"
   ]
  },
  {
   "cell_type": "code",
   "execution_count": 140,
   "metadata": {},
   "outputs": [
    {
     "data": {
      "text/html": [
       "<div>\n",
       "<style scoped>\n",
       "    .dataframe tbody tr th:only-of-type {\n",
       "        vertical-align: middle;\n",
       "    }\n",
       "\n",
       "    .dataframe tbody tr th {\n",
       "        vertical-align: top;\n",
       "    }\n",
       "\n",
       "    .dataframe thead th {\n",
       "        text-align: right;\n",
       "    }\n",
       "</style>\n",
       "<table border=\"1\" class=\"dataframe\">\n",
       "  <thead>\n",
       "    <tr style=\"text-align: right;\">\n",
       "      <th></th>\n",
       "      <th>Year</th>\n",
       "      <th>Runtime</th>\n",
       "      <th>Age</th>\n",
       "      <th>Directors</th>\n",
       "      <th>Genres</th>\n",
       "      <th>Country</th>\n",
       "      <th>Language</th>\n",
       "    </tr>\n",
       "    <tr>\n",
       "      <th>ID</th>\n",
       "      <th></th>\n",
       "      <th></th>\n",
       "      <th></th>\n",
       "      <th></th>\n",
       "      <th></th>\n",
       "      <th></th>\n",
       "      <th></th>\n",
       "    </tr>\n",
       "  </thead>\n",
       "  <tbody>\n",
       "    <tr>\n",
       "      <th>8874</th>\n",
       "      <td>2016</td>\n",
       "      <td>90.0</td>\n",
       "      <td>all</td>\n",
       "      <td>Ross Kohn</td>\n",
       "      <td>Thriller</td>\n",
       "      <td>United States</td>\n",
       "      <td>English</td>\n",
       "    </tr>\n",
       "    <tr>\n",
       "      <th>12421</th>\n",
       "      <td>2016</td>\n",
       "      <td>87.0</td>\n",
       "      <td>all</td>\n",
       "      <td>Melissa Finell</td>\n",
       "      <td>Comedy</td>\n",
       "      <td>United States</td>\n",
       "      <td>English</td>\n",
       "    </tr>\n",
       "    <tr>\n",
       "      <th>8191</th>\n",
       "      <td>2018</td>\n",
       "      <td>79.0</td>\n",
       "      <td>all</td>\n",
       "      <td>Svend Ploug Johansen</td>\n",
       "      <td>Sci-Fi</td>\n",
       "      <td>United States</td>\n",
       "      <td>English,Danish</td>\n",
       "    </tr>\n",
       "    <tr>\n",
       "      <th>12796</th>\n",
       "      <td>2017</td>\n",
       "      <td>120.0</td>\n",
       "      <td>18+</td>\n",
       "      <td>Christopher Compton</td>\n",
       "      <td>Action,Adventure,Drama</td>\n",
       "      <td>United States</td>\n",
       "      <td>English</td>\n",
       "    </tr>\n",
       "    <tr>\n",
       "      <th>4721</th>\n",
       "      <td>2018</td>\n",
       "      <td>136.0</td>\n",
       "      <td>all</td>\n",
       "      <td>Zhangke Jia</td>\n",
       "      <td>Crime,Drama,Romance</td>\n",
       "      <td>China,France,Japan</td>\n",
       "      <td>Chinese,Mandarin</td>\n",
       "    </tr>\n",
       "  </tbody>\n",
       "</table>\n",
       "</div>"
      ],
      "text/plain": [
       "       Year  Runtime  Age             Directors                  Genres  \\\n",
       "ID                                                                        \n",
       "8874   2016     90.0  all             Ross Kohn                Thriller   \n",
       "12421  2016     87.0  all        Melissa Finell                  Comedy   \n",
       "8191   2018     79.0  all  Svend Ploug Johansen                  Sci-Fi   \n",
       "12796  2017    120.0  18+   Christopher Compton  Action,Adventure,Drama   \n",
       "4721   2018    136.0  all           Zhangke Jia     Crime,Drama,Romance   \n",
       "\n",
       "                  Country          Language  \n",
       "ID                                           \n",
       "8874        United States           English  \n",
       "12421       United States           English  \n",
       "8191        United States    English,Danish  \n",
       "12796       United States           English  \n",
       "4721   China,France,Japan  Chinese,Mandarin  "
      ]
     },
     "execution_count": 140,
     "metadata": {},
     "output_type": "execute_result"
    }
   ],
   "source": [
    "#Viewing Test data\n",
    "X_test.head()"
   ]
  },
  {
   "cell_type": "code",
   "execution_count": 141,
   "metadata": {},
   "outputs": [],
   "source": [
    "#Copying the data to prevent change in original datset\n",
    "label_X_train = X_train.copy()\n",
    "label_X_test = X_test.copy()\n",
    "\n",
    "# Apply label encoder to each column with categorical data\n",
    "label_encoder = LabelEncoder()\n",
    "for col in cat_cols:\n",
    "    label_encoder.fit(pd.concat([label_X_train[col], label_X_test[col]], axis=0, sort=False))\n",
    "    label_X_train[col] = label_encoder.transform(label_X_train[col])\n",
    "    label_X_test[col] = label_encoder.transform(label_X_test[col])"
   ]
  },
  {
   "cell_type": "code",
   "execution_count": 142,
   "metadata": {},
   "outputs": [],
   "source": [
    "# Define the models\n",
    "model_1 = RandomForestRegressor(n_estimators=50, random_state=1)\n",
    "model_2 = RandomForestRegressor(n_estimators=100, random_state=1)\n",
    "model_3 = RandomForestRegressor(n_estimators=100, criterion='mae', random_state=1)\n",
    "model_4 = RandomForestRegressor(n_estimators=200, min_samples_split=20, random_state=1)\n",
    "model_5 = RandomForestRegressor(n_estimators=100, max_depth=7, random_state=1)\n",
    "\n",
    "#List of models\n",
    "models = [model_1, model_2, model_3, model_4, model_5]"
   ]
  },
  {
   "cell_type": "code",
   "execution_count": 143,
   "metadata": {},
   "outputs": [
    {
     "name": "stdout",
     "output_type": "stream",
     "text": [
      "Model 1 MAE: 0.834292\n",
      "Model 2 MAE: 0.831473\n",
      "Model 3 MAE: 0.827311\n",
      "Model 4 MAE: 0.812408\n",
      "Model 5 MAE: 0.823902\n"
     ]
    }
   ],
   "source": [
    "# Function for comparing different models\n",
    "def score_model(model, X_t=label_X_train, X_v=label_X_test, y_t=y_train, y_v=y_test):\n",
    "    model.fit(X_t, y_t)\n",
    "    preds = model.predict(X_v)\n",
    "    return mean_absolute_error(y_v, preds)\n",
    "\n",
    "mae_scores=[]\n",
    "\n",
    "for i in range(0, len(models)):\n",
    "    mae = score_model(models[i])\n",
    "    print(\"Model %d MAE: %f\" % (i+1, mae))\n",
    "    mae_scores.append(mae)"
   ]
  },
  {
   "cell_type": "code",
   "execution_count": 145,
   "metadata": {},
   "outputs": [
    {
     "data": {
      "text/plain": [
       "0.8124076242731043"
      ]
     },
     "execution_count": 145,
     "metadata": {},
     "output_type": "execute_result"
    }
   ],
   "source": [
    "best_score=min(mae_scores)\n",
    "best_score"
   ]
  },
  {
   "cell_type": "code",
   "execution_count": null,
   "metadata": {},
   "outputs": [],
   "source": []
  }
 ],
 "metadata": {
  "kernelspec": {
   "display_name": "Python 3",
   "language": "python",
   "name": "python3"
  },
  "language_info": {
   "codemirror_mode": {
    "name": "ipython",
    "version": 3
   },
   "file_extension": ".py",
   "mimetype": "text/x-python",
   "name": "python",
   "nbconvert_exporter": "python",
   "pygments_lexer": "ipython3",
   "version": "3.7.6"
  }
 },
 "nbformat": 4,
 "nbformat_minor": 4
}
